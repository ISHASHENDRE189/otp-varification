{
  "nbformat": 4,
  "nbformat_minor": 0,
  "metadata": {
    "colab": {
      "provenance": []
    },
    "kernelspec": {
      "name": "python3",
      "display_name": "Python 3"
    },
    "language_info": {
      "name": "python"
    }
  },
  "cells": [
    {
      "cell_type": "code",
      "execution_count": null,
      "metadata": {
        "id": "Of_eGFKanDO3"
      },
      "outputs": [],
      "source": [
        "import os\n",
        "import math\n",
        "import random\n",
        "import smtplib"
      ]
    },
    {
      "cell_type": "markdown",
      "source": [
        "Generate OTP using Random Number"
      ],
      "metadata": {
        "id": "Q0fjokWJdQEC"
      }
    },
    {
      "cell_type": "code",
      "source": [
        "digits=\"0123456789\"\n",
        "OTP=\"\"\n",
        "for i in range(6):\n",
        "  OTP+=digits[math.floor(random.random()*10)]\n",
        "otp=OTP + \" is Your OTP\"\n",
        "msg= otp"
      ],
      "metadata": {
        "id": "aPkb6ur5dO4_"
      },
      "execution_count": null,
      "outputs": []
    },
    {
      "cell_type": "code",
      "source": [
        "print(msg)"
      ],
      "metadata": {
        "colab": {
          "base_uri": "https://localhost:8080/"
        },
        "id": "am8Q6v82d185",
        "outputId": "3b5f5459-c346-4fd2-e075-2cffcabefd87"
      },
      "execution_count": null,
      "outputs": [
        {
          "output_type": "stream",
          "name": "stdout",
          "text": [
            "139663 is Your OTP\n"
          ]
        }
      ]
    },
    {
      "cell_type": "code",
      "source": [
        "s= smtplib.SMTP('smtp.gmail.com', 587)\n",
        "s.starttls()\n",
        "\n",
        "emailid=input(\"Enter your email:\")\n",
        "s.login(\"pragyan.ai.school@gmail.com\",\"axsm pcei qluf lmwd\")\n",
        "s.sendmail('&&&&&&',emailid,msg)\n"
      ],
      "metadata": {
        "colab": {
          "base_uri": "https://localhost:8080/"
        },
        "id": "HCI9hodRebWe",
        "outputId": "7302872a-39b1-45ad-b72e-d83c6a84e3ff"
      },
      "execution_count": null,
      "outputs": [
        {
          "name": "stdout",
          "output_type": "stream",
          "text": [
            "Enter your email:swatiswati66239@gmail.com\n"
          ]
        },
        {
          "output_type": "execute_result",
          "data": {
            "text/plain": [
              "{}"
            ]
          },
          "metadata": {},
          "execution_count": 24
        }
      ]
    },
    {
      "cell_type": "code",
      "source": [
        "emailid=input(\"enter your email:\")\n",
        "s.initial_response_ok=a=input(\"Enter your OTP >> :\")\n",
        "if a== OTP:\n",
        "  print(\"Verified\")\n",
        "else:\n",
        "  print(\"Please check your OTP again\")\n"
      ],
      "metadata": {
        "colab": {
          "base_uri": "https://localhost:8080/"
        },
        "id": "AJdYgiWJffO4",
        "outputId": "ef2df09e-c8af-4f5f-8afe-70c78a2deb87"
      },
      "execution_count": null,
      "outputs": [
        {
          "output_type": "stream",
          "name": "stdout",
          "text": [
            "enter your email:swatiswati66239@gmail.com\n",
            "Enter your OTP >> :139663\n",
            "Verified\n"
          ]
        }
      ]
    },
    {
      "cell_type": "code",
      "source": [
        "s = smtplib.SMTP('smtp.gmail.com', 587)\n",
        "s.starttls()\n",
        "\n",
        "emailid = input(\"Enter your email: \")\n",
        "s.login(\"akashtripathisln@gmail.com\", \"smauqnegacjxhpxh\")\n",
        "s.sendmail('&&&&&&',emailid,msg)"
      ],
      "metadata": {
        "colab": {
          "base_uri": "https://localhost:8080/"
        },
        "id": "lBCAdzPkhDk5",
        "outputId": "36bb6628-e1a6-429e-9eb2-f0e86134d2a1"
      },
      "execution_count": null,
      "outputs": [
        {
          "name": "stdout",
          "output_type": "stream",
          "text": [
            "Enter your email: swatiswati66239@gmail.com\n"
          ]
        },
        {
          "output_type": "execute_result",
          "data": {
            "text/plain": [
              "{}"
            ]
          },
          "metadata": {},
          "execution_count": 27
        }
      ]
    },
    {
      "cell_type": "code",
      "source": [],
      "metadata": {
        "id": "g776-3veiUrd"
      },
      "execution_count": null,
      "outputs": []
    }
  ]
}